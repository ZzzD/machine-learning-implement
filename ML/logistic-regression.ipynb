{
 "cells": [
  {
   "cell_type": "code",
   "execution_count": 191,
   "metadata": {},
   "outputs": [],
   "source": [
    "%matplotlib inline\n",
    "import matplotlib.pyplot as plt\n",
    "import numpy as np\n",
    "from io import BytesIO\n",
    "from sklearn.datasets import load_iris\n",
    "from sklearn.model_selection import train_test_split\n",
    "from sklearn.preprocessing import StandardScaler\n",
    "\n",
    "import tensorflow as tf"
   ]
  },
  {
   "cell_type": "code",
   "execution_count": 192,
   "metadata": {},
   "outputs": [
    {
     "data": {
      "image/png": "[encoded data removed]",
      "text/plain": [
       "<Figure size 504x180 with 2 Axes>"
      ]
     },
     "metadata": {
      "needs_background": "light"
     },
     "output_type": "display_data"
    }
   ],
   "source": [
    "x, y = load_iris(return_X_y=True)\n",
    "\n",
    "x, y = x.astype(np.float32), y.astype(np.float32)\n",
    "\n",
    "x = x[:100, :2]\n",
    "y = y[:100]\n",
    "\n",
    "X_train, X_test, y_train, y_test = train_test_split(x, y, test_size=0.25, random_state=1)\n",
    "\n",
    "scaler = StandardScaler()\n",
    "scaler.fit(X_train)\n",
    "# X_train, X_test = (X_train - mu) / std, (X_test - mu) / std\n",
    "X_train, X_test = scaler.transform(X_train), scaler.transform(X_test)\n",
    "\n",
    "fig, ax = plt.subplots(1, 2, figsize=(7, 2.5))\n",
    "ax[0].scatter(X_train[y_train == 1, 0], X_train[y_train == 1, 1])\n",
    "ax[0].scatter(X_train[y_train == 0, 0], X_train[y_train == 0, 1])\n",
    "ax[1].scatter(X_test[y_test == 1, 0], X_test[y_test == 1, 1])\n",
    "ax[1].scatter(X_test[y_test == 0, 0], X_test[y_test == 0, 1])\n",
    "plt.show()"
   ]
  },
  {
   "cell_type": "markdown",
   "metadata": {},
   "source": [
    "## Low-level implementation with manual gradients"
   ]
  },
  {
   "cell_type": "code",
   "execution_count": 193,
   "metadata": {},
   "outputs": [],
   "source": [
    "class LogisticRegressionMannualGrad:\n",
    "    def __init__(self, num_features):\n",
    "        self.num_features = num_features\n",
    "        \n",
    "        self.W = np.random.randn(num_features, ) * 2 / num_features # he initialization\n",
    "        self.b = 0\n",
    "        \n",
    "    def forward(self, x):\n",
    "        logits = np.matmul(x, self.W) + self.b\n",
    "        return self._sigmoid(logits)\n",
    "    \n",
    "    def backward(self, proba, y):\n",
    "        error = y - proba\n",
    "        return error\n",
    "    \n",
    "    def step(self, x, y, lr):\n",
    "        proba = self.forward(x)\n",
    "        error = self.backward(proba, y)\n",
    "        \n",
    "        self.W += lr * np.mean(error[..., None] * x, axis=0)\n",
    "        self.b += lr * np.mean(error)\n",
    "    def evaluate(self, x, y):\n",
    "        proba = self.forward(x)\n",
    "        labels = np.where(proba >= .5, 1, 0)\n",
    "        return np.sum(labels == y) / len(y)\n",
    "    \n",
    "    \n",
    "    def train(self, x, y, num_epochs, learning_rate=1e-1):\n",
    "        for e in range(num_epochs):\n",
    "            self.step(x, y, learning_rate)\n",
    "            print('Epoch: %03d' % (e+1), end=\"\")\n",
    "            print(' | Train ACC: %.3f' % self.evaluate(x, y), end=\"\")\n",
    "            print(' | Test ACC: %.3f' % self.evaluate(X_test, y_test))\n",
    "    \n",
    "    def _sigmoid(self, z):\n",
    "        return 1. / (1. + np.exp(-z))"
   ]
  },
  {
   "cell_type": "code",
   "execution_count": 194,
   "metadata": {},
   "outputs": [],
   "source": [
    "LR = LogisticRegressionMannualGrad(2)"
   ]
  },
  {
   "cell_type": "code",
   "execution_count": 195,
   "metadata": {},
   "outputs": [
    {
     "name": "stdout",
     "output_type": "stream",
     "text": [
      "Epoch: 001 | Train ACC: 0.987 | Test ACC: 1.000\n",
      "Epoch: 002 | Train ACC: 1.000 | Test ACC: 1.000\n",
      "Epoch: 003 | Train ACC: 1.000 | Test ACC: 1.000\n",
      "Epoch: 004 | Train ACC: 1.000 | Test ACC: 1.000\n",
      "Epoch: 005 | Train ACC: 1.000 | Test ACC: 1.000\n",
      "Epoch: 006 | Train ACC: 1.000 | Test ACC: 1.000\n",
      "Epoch: 007 | Train ACC: 1.000 | Test ACC: 1.000\n",
      "Epoch: 008 | Train ACC: 1.000 | Test ACC: 1.000\n",
      "Epoch: 009 | Train ACC: 1.000 | Test ACC: 1.000\n",
      "Epoch: 010 | Train ACC: 1.000 | Test ACC: 1.000\n"
     ]
    }
   ],
   "source": [
    "LR.train(X_train, y_train, 10, learning_rate=1e1)"
   ]
  },
  {
   "cell_type": "code",
   "execution_count": 196,
   "metadata": {},
   "outputs": [
    {
     "data": {
      "text/plain": [
       "array([ 5.83512031, -4.08293108])"
      ]
     },
     "execution_count": 196,
     "metadata": {},
     "output_type": "execute_result"
    }
   ],
   "source": [
    "LR.W"
   ]
  },
  {
   "cell_type": "code",
   "execution_count": 197,
   "metadata": {},
   "outputs": [
    {
     "data": {
      "text/plain": [
       "-0.023162445708151486"
      ]
     },
     "execution_count": 197,
     "metadata": {},
     "output_type": "execute_result"
    }
   ],
   "source": [
    "LR.b"
   ]
  },
  {
   "cell_type": "code",
   "execution_count": 198,
   "metadata": {},
   "outputs": [
    {
     "data": {
      "image/png": "[encoded data removed]",
      "text/plain": [
       "<Figure size 504x216 with 2 Axes>"
      ]
     },
     "metadata": {
      "needs_background": "light"
     },
     "output_type": "display_data"
    }
   ],
   "source": [
    "w, b = LR.W, LR.b\n",
    "\n",
    "x_min = -2\n",
    "y_min = ( (-(w[0] * x_min) - b) \n",
    "          / w[1] )\n",
    "\n",
    "x_max = 2\n",
    "y_max = ( (-(w[0] * x_max) - b) \n",
    "          / w[1] )\n",
    "\n",
    "\n",
    "fig, ax = plt.subplots(1, 2, sharex=True, figsize=(7, 3))\n",
    "\n",
    "ax[0].plot([x_min, x_max], [y_min, y_max])\n",
    "ax[1].plot([x_min, x_max], [y_min, y_max])\n",
    "\n",
    "ax[0].scatter(X_train[y_train==0, 0], X_train[y_train==0, 1], label='class 0', marker='o')\n",
    "ax[0].scatter(X_train[y_train==1, 0], X_train[y_train==1, 1], label='class 1', marker='s')\n",
    "\n",
    "ax[1].scatter(X_test[y_test==0, 0], X_test[y_test==0, 1], label='class 0', marker='o')\n",
    "ax[1].scatter(X_test[y_test==1, 0], X_test[y_test==1, 1], label='class 1', marker='s')\n",
    "\n",
    "ax[1].legend(loc='upper left')\n",
    "plt.show()"
   ]
  },
  {
   "cell_type": "markdown",
   "metadata": {},
   "source": [
    "## Low-level implementation using tensorflow"
   ]
  },
  {
   "cell_type": "code",
   "execution_count": 211,
   "metadata": {},
   "outputs": [],
   "source": [
    "class LogisticRegressionTF(tf.keras.Model):\n",
    "    def __init__(self, num_features):\n",
    "        super(LogisticRegressionTF, self).__init__()\n",
    "        self.num_features = num_features\n",
    "        \n",
    "        w_init = tf.initializers.VarianceScaling(seed=1)\n",
    "        self.W = tf.Variable(w_init(shape=(self.num_features, 1)), name='kernel')\n",
    "        self.b = tf.Variable(0., name='bias')\n",
    "        \n",
    "    def call(self, x):\n",
    "        z = tf.matmul(x, self.W) + self.b\n",
    "        return tf.nn.sigmoid(z)"
   ]
  },
  {
   "cell_type": "code",
   "execution_count": 251,
   "metadata": {},
   "outputs": [
    {
     "name": "stdout",
     "output_type": "stream",
     "text": [
      "Epoch: 001 | Train ACC: 0.920 | Cost: 0.547 | Test ACC: 1.000\n",
      "Epoch: 002 | Train ACC: 0.973 | Cost: 0.409 | Test ACC: 1.000\n",
      "Epoch: 003 | Train ACC: 0.987 | Cost: 0.331 | Test ACC: 1.000\n",
      "Epoch: 004 | Train ACC: 0.987 | Cost: 0.281 | Test ACC: 1.000\n",
      "Epoch: 005 | Train ACC: 0.987 | Cost: 0.247 | Test ACC: 1.000\n",
      "Epoch: 006 | Train ACC: 0.987 | Cost: 0.221 | Test ACC: 1.000\n",
      "Epoch: 007 | Train ACC: 0.987 | Cost: 0.202 | Test ACC: 1.000\n",
      "Epoch: 008 | Train ACC: 0.987 | Cost: 0.186 | Test ACC: 1.000\n",
      "Epoch: 009 | Train ACC: 0.987 | Cost: 0.174 | Test ACC: 1.000\n",
      "Epoch: 010 | Train ACC: 0.987 | Cost: 0.163 | Test ACC: 1.000\n"
     ]
    }
   ],
   "source": [
    "NUM_EPOCH = 10\n",
    "LRTF = LogisticRegressionTF(2)\n",
    "optimazer = tf.optimizers.SGD(learning_rate=1)\n",
    "\n",
    "def loss_function(y, proba):\n",
    "    return -y * tf.math.log(proba) - (1 - y) * tf.math.log(1 - proba)\n",
    "\n",
    "for e in range(NUM_EPOCH):\n",
    "    with tf.GradientTape() as tape:\n",
    "        proba =LRTF(X_train)\n",
    "        loss = tf.reduce_mean(loss_function(y_train, proba[:, 0]))\n",
    "    variables = LRTF.variables\n",
    "    gradients = tape.gradient(loss, variables)\n",
    "    optimazer.apply_gradients(zip(gradients, variables))\n",
    "    \n",
    "    train_y_pred = tf.where(proba >= .5, 1, 0).numpy()\n",
    "    train_acc = np.sum(train_y_pred[:, 0] == y_train) / len(y_train)\n",
    "    \n",
    "    test_y_pred = tf.where(LRTF(X_test)[:, 0] >= .5, 1, 0).numpy()\n",
    "    test_acc = np.sum(test_y_pred == y_test) / len(y_test)\n",
    "    \n",
    "    print('Epoch: %03d' % (e+1), end=\"\")\n",
    "    print(' | Train ACC: %.3f' % train_acc, end=\"\")\n",
    "    print(' | Cost: %.3f' % loss.numpy(), end=\"\")\n",
    "    print(' | Test ACC: %.3f' % test_acc)"
   ]
  },
  {
   "cell_type": "code",
   "execution_count": 254,
   "metadata": {},
   "outputs": [
    {
     "data": {
      "image/png": "[encoded data removed]",
      "text/plain": [
       "<Figure size 504x216 with 2 Axes>"
      ]
     },
     "metadata": {
      "needs_background": "light"
     },
     "output_type": "display_data"
    }
   ],
   "source": [
    "w, b = LRTF.W.numpy(), LRTF.b.numpy()\n",
    "\n",
    "x_min = -2\n",
    "y_min = ( (-(w[0] * x_min) - b) \n",
    "          / w[1] )\n",
    "\n",
    "x_max = 2\n",
    "y_max = ( (-(w[0] * x_max) - b) \n",
    "          / w[1] )\n",
    "\n",
    "\n",
    "fig, ax = plt.subplots(1, 2, sharex=True, figsize=(7, 3))\n",
    "\n",
    "ax[0].plot([x_min, x_max], [y_min, y_max])\n",
    "ax[1].plot([x_min, x_max], [y_min, y_max])\n",
    "\n",
    "ax[0].scatter(X_train[y_train==0, 0], X_train[y_train==0, 1], label='class 0', marker='o')\n",
    "ax[0].scatter(X_train[y_train==1, 0], X_train[y_train==1, 1], label='class 1', marker='s')\n",
    "\n",
    "ax[1].scatter(X_test[y_test==0, 0], X_test[y_test==0, 1], label='class 0', marker='o')\n",
    "ax[1].scatter(X_test[y_test==1, 0], X_test[y_test==1, 1], label='class 1', marker='s')\n",
    "\n",
    "ax[1].legend(loc='upper left')\n",
    "plt.show()"
   ]
  },
  {
   "cell_type": "code",
   "execution_count": null,
   "metadata": {},
   "outputs": [],
   "source": []
  }
 ],
 "metadata": {
  "kernelspec": {
   "display_name": "Python 3",
   "language": "python",
   "name": "python3"
  },
  "language_info": {
   "codemirror_mode": {
    "name": "ipython",
    "version": 3
   },
   "file_extension": ".py",
   "mimetype": "text/x-python",
   "name": "python",
   "nbconvert_exporter": "python",
   "pygments_lexer": "ipython3",
   "version": "3.6.5"
  }
 },
 "nbformat": 4,
 "nbformat_minor": 2
}
