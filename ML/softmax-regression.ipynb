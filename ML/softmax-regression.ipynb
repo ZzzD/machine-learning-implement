{
 "cells": [
  {
   "cell_type": "code",
   "execution_count": 1,
   "metadata": {},
   "outputs": [],
   "source": [
    "%matplotlib inline\n",
    "import matplotlib.pyplot as plt\n",
    "import numpy as np\n",
    "import math\n",
    "# from io import BytesIO\n",
    "# from sklearn.datasets import load_iris\n",
    "# from sklearn.model_selection import train_test_split\n",
    "# from sklearn.preprocessing import StandardScaler\n",
    "\n",
    "import tensorflow as tf"
   ]
  },
  {
   "cell_type": "code",
   "execution_count": 2,
   "metadata": {},
   "outputs": [],
   "source": [
    "random_seed = 42\n",
    "learning_rate = 1e-1\n",
    "num_epochs = 100\n",
    "batch_size = 256\n",
    "\n",
    "num_features = 784\n",
    "num_classes = 10"
   ]
  },
  {
   "cell_type": "code",
   "execution_count": 3,
   "metadata": {},
   "outputs": [],
   "source": [
    "(X_train, y_train), (X_test, y_test) = tf.keras.datasets.mnist.load_data()\n",
    "\n",
    "X_train = np.reshape(X_train / 255, (-1, num_features)).astype(np.float32)\n",
    "X_test = np.reshape(X_test / 255, (-1, num_features)).astype(np.float32)"
   ]
  },
  {
   "cell_type": "code",
   "execution_count": 4,
   "metadata": {},
   "outputs": [],
   "source": [
    "def next_batch(X, y, batch_size):\n",
    "    i, iters_per_epoch = 0, math.ceil(y.shape[0] / batch_size)\n",
    "    while i < iters_per_epoch:\n",
    "        i += 1\n",
    "        lo, hi = (i - 1) * batch_size, i * batch_size\n",
    "        yield X[lo:hi], y[lo:hi]"
   ]
  },
  {
   "cell_type": "markdown",
   "metadata": {},
   "source": [
    "## Low-level implementation with manual gradients"
   ]
  },
  {
   "cell_type": "code",
   "execution_count": 10,
   "metadata": {},
   "outputs": [],
   "source": [
    "class SoftmaxRegressionMannualGrad:\n",
    "    def __init__(self, num_features, num_classes):\n",
    "        self.num_features = num_features\n",
    "        self.num_classes = num_classes\n",
    "        \n",
    "        self.W = np.random.randn(self.num_features, self.num_classes) * 2 / num_features # he initialization\n",
    "        self.b = np.zeros((num_classes, ))\n",
    "        \n",
    "    \n",
    "    def forward(self, x):\n",
    "        logits = np.matmul(x, self.W) + self.b\n",
    "        return logits\n",
    "    \n",
    "    def step(self, x, y, learning_rate=1e-1):\n",
    "        logits = self.forward(x)\n",
    "        proba = self._softmax(logits).astype(np.float32)\n",
    "        one_hot = np.zeros((len(y), num_classes), dtype=np.float32)\n",
    "        one_hot[range(len(y)), y] = 1.\n",
    "        grad_w = np.matmul(x.T, proba - one_hot)\n",
    "        grad_b = np.sum(proba - one_hot, axis=0)\n",
    "        self.W -= learning_rate * grad_w\n",
    "        self.b -= learning_rate * grad_b\n",
    "    \n",
    "    def evaluate(self, x, y):\n",
    "        logits = self.forward(x)\n",
    "        y_pred = np.argmax(logits, axis=1)\n",
    "        return np.sum(y_pred == y) / len(y)\n",
    "        \n",
    "    def train(self, epochs, batch_size, learning_rate=1e-3):\n",
    "        for e in range(1, epochs + 1):\n",
    "            for batch_X, batch_y in next_batch(X_train, y_train, batch_size):\n",
    "                self.step(batch_X, batch_y, learning_rate=learning_rate)\n",
    "            if not e % 10:\n",
    "                train_acc = self.evaluate(X_train[:512], y_train[:512])\n",
    "                test_acc = self.evaluate(X_test[:512], y_test[:512])\n",
    "                print('Epoch: %03d' % e, end=\"\")\n",
    "                print(' | Train ACC: %.3f' % train_acc, end=\"\")\n",
    "                print(' | Test ACC: %.3f' % test_acc)\n",
    "    \n",
    "    def _softmax(self, logits):\n",
    "        logits -= np.max(logits, axis=1, keepdims=True)  # numerical stability\n",
    "        return np.exp(logits) / np.sum(np.exp(logits), axis=1, keepdims=True)"
   ]
  },
  {
   "cell_type": "code",
   "execution_count": 11,
   "metadata": {},
   "outputs": [
    {
     "name": "stdout",
     "output_type": "stream",
     "text": [
      "Epoch: 010 | Train ACC: 0.926 | Test ACC: 0.918\n",
      "Epoch: 020 | Train ACC: 0.930 | Test ACC: 0.920\n",
      "Epoch: 030 | Train ACC: 0.939 | Test ACC: 0.920\n",
      "Epoch: 040 | Train ACC: 0.941 | Test ACC: 0.926\n",
      "Epoch: 050 | Train ACC: 0.941 | Test ACC: 0.926\n",
      "Epoch: 060 | Train ACC: 0.943 | Test ACC: 0.926\n",
      "Epoch: 070 | Train ACC: 0.943 | Test ACC: 0.928\n",
      "Epoch: 080 | Train ACC: 0.943 | Test ACC: 0.928\n",
      "Epoch: 090 | Train ACC: 0.945 | Test ACC: 0.928\n",
      "Epoch: 100 | Train ACC: 0.947 | Test ACC: 0.928\n"
     ]
    }
   ],
   "source": [
    "softmax_regressor = SoftmaxRegressionMannualGrad(784, 10)\n",
    "softmax_regressor.train(num_epochs, batch_size)"
   ]
  },
  {
   "cell_type": "markdown",
   "metadata": {},
   "source": [
    "## Low-level implementation using tensorflow autograd"
   ]
  },
  {
   "cell_type": "code",
   "execution_count": 6,
   "metadata": {},
   "outputs": [],
   "source": [
    "class SoftmaxRegressionTF(tf.keras.Model):\n",
    "    def __init__(self, num_features, num_classes):\n",
    "        super(SoftmaxRegressionTF, self).__init__()\n",
    "        self.num_features = num_features\n",
    "        self.num_classes = num_classes\n",
    "        \n",
    "        w_init = tf.initializers.VarianceScaling()\n",
    "        self.W = tf.Variable(w_init(shape=(num_features, num_classes), \n",
    "                                    dtype=tf.float32), name='kernel')\n",
    "        self.b = tf.Variable(tf.zeros((num_classes, ), dtype=tf.float32), name='bias')\n",
    "    \n",
    "    def call(self, x):\n",
    "        logits = tf.matmul(x, self.W) + self.b\n",
    "        return logits"
   ]
  },
  {
   "cell_type": "code",
   "execution_count": 7,
   "metadata": {},
   "outputs": [
    {
     "name": "stdout",
     "output_type": "stream",
     "text": [
      "Epoch: 001 | Train ACC: 0.906 | Cost: 0.536\n",
      "Epoch: 011 | Train ACC: 0.938 | Cost: 0.322\n",
      "Epoch: 021 | Train ACC: 0.938 | Cost: 0.296\n",
      "Epoch: 031 | Train ACC: 0.948 | Cost: 0.282\n",
      "Epoch: 041 | Train ACC: 0.958 | Cost: 0.271\n",
      "Epoch: 051 | Train ACC: 0.958 | Cost: 0.263\n",
      "Epoch: 061 | Train ACC: 0.958 | Cost: 0.256\n",
      "Epoch: 071 | Train ACC: 0.958 | Cost: 0.250\n",
      "Epoch: 081 | Train ACC: 0.958 | Cost: 0.244\n",
      "Epoch: 091 | Train ACC: 0.958 | Cost: 0.240\n"
     ]
    }
   ],
   "source": [
    "NUM_EPOCH = 100\n",
    "regressor = SoftmaxRegressionTF(28 * 28, 10)\n",
    "optimazer = tf.optimizers.SGD(learning_rate=1e-1)\n",
    "\n",
    "# def loss_function(y, proba):\n",
    "#     return -y * tf.math.log(proba)\n",
    "\n",
    "for e in range(NUM_EPOCH):\n",
    "    for batch_X, batch_y in next_batch(X_train, y_train, batch_size):\n",
    "        with tf.GradientTape() as tape:\n",
    "            logits =regressor(batch_X)\n",
    "            loss = tf.reduce_mean(tf.losses.sparse_categorical_crossentropy(batch_y, logits, from_logits=True))\n",
    "        \n",
    "        variables = regressor.variables\n",
    "        gradients = tape.gradient(loss, variables)\n",
    "        optimazer.apply_gradients(zip(gradients, variables))\n",
    "        \n",
    "    if not e % 10:\n",
    "        train_y_pred = tf.argmax(logits, axis=1).numpy()\n",
    "        train_acc = np.sum(train_y_pred == batch_y) / len(batch_y)\n",
    "\n",
    "    #         test_y_pred = tf.where(LRTF(X_test)[:, 0] >= .5, 1, 0).numpy()\n",
    "    #         test_acc = np.sum(test_y_pred == y_test) / len(y_test)\n",
    "\n",
    "        print('Epoch: %03d' % (e+1), end=\"\")\n",
    "        print(' | Train ACC: %.3f' % train_acc, end=\"\")\n",
    "        print(' | Cost: %.3f' % loss.numpy())"
   ]
  },
  {
   "cell_type": "code",
   "execution_count": 44,
   "metadata": {},
   "outputs": [
    {
     "data": {
      "text/plain": [
       "0.9256"
      ]
     },
     "execution_count": 44,
     "metadata": {},
     "output_type": "execute_result"
    }
   ],
   "source": [
    "y_pred = []\n",
    "for batch_X, batch_y in next_batch(X_test, y_test, batch_size):\n",
    "    logits =regressor(batch_X)\n",
    "    y_pred.append(tf.argmax(logits, axis=1).numpy())\n",
    "y_pred = np.concatenate(y_pred)\n",
    "np.sum(y_pred == y_test) / len(y_test)"
   ]
  }
 ],
 "metadata": {
  "kernelspec": {
   "display_name": "Python 3",
   "language": "python",
   "name": "python3"
  },
  "language_info": {
   "codemirror_mode": {
    "name": "ipython",
    "version": 3
   },
   "file_extension": ".py",
   "mimetype": "text/x-python",
   "name": "python",
   "nbconvert_exporter": "python",
   "pygments_lexer": "ipython3",
   "version": "3.6.5"
  }
 },
 "nbformat": 4,
 "nbformat_minor": 2
}
